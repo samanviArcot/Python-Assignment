{
  "nbformat": 4,
  "nbformat_minor": 0,
  "metadata": {
    "colab": {
      "name": "Assignment2.ipynb",
      "provenance": [],
      "collapsed_sections": []
    },
    "kernelspec": {
      "name": "python3",
      "display_name": "Python 3"
    }
  },
  "cells": [
    {
      "cell_type": "markdown",
      "metadata": {
        "id": "PelGC2UcuqBb",
        "colab_type": "text"
      },
      "source": [
        "1.\tArea of Triangle :\n",
        "Given the lengths of three sides of a triangle, calculate the area of the triangle. \n"
      ]
    },
    {
      "cell_type": "code",
      "metadata": {
        "id": "RJLbLzu7sRNd",
        "colab_type": "code",
        "colab": {
          "base_uri": "https://localhost:8080/",
          "height": 87
        },
        "outputId": "00884dd9-199d-4edb-965d-9314e8ca98d3"
      },
      "source": [
        "import math\n",
        "a=int(input(\"Enter first side : \"))\n",
        "b=int(input(\"Enter second side : \"))\n",
        "c=int(input(\"Enter third side : \"))\n",
        "s=(a+b+c)/2.0\n",
        "ar=(s-a)*(s-b)*(s-c)\n",
        "ar=math.sqrt(s*ar)\n",
        "print(ar)"
      ],
      "execution_count": null,
      "outputs": [
        {
          "output_type": "stream",
          "text": [
            "Enter first side : 3\n",
            "Enter second side : 4\n",
            "Enter third side : 5\n",
            "6.0\n"
          ],
          "name": "stdout"
        }
      ]
    },
    {
      "cell_type": "markdown",
      "metadata": {
        "id": "gUOesCptvOg4",
        "colab_type": "text"
      },
      "source": [
        "2.\tTake a string from end user and check if the value is palindrome or not \n"
      ]
    },
    {
      "cell_type": "code",
      "metadata": {
        "id": "oq7Rk4z8uwZF",
        "colab_type": "code",
        "colab": {
          "base_uri": "https://localhost:8080/",
          "height": 52
        },
        "outputId": "262492e7-b09c-4fb4-eeca-ef4a49af8362"
      },
      "source": [
        "st=input(\"enter string : \")\n",
        "if(st==st[-1::-1]):\n",
        "  print(\"palindrom\")\n",
        "else:\n",
        "  print(\"Not a plaindrom\")"
      ],
      "execution_count": null,
      "outputs": [
        {
          "output_type": "stream",
          "text": [
            "enter string : malayalam\n",
            "palindrom\n"
          ],
          "name": "stdout"
        }
      ]
    },
    {
      "cell_type": "markdown",
      "metadata": {
        "id": "mUCTlwNUw6gG",
        "colab_type": "text"
      },
      "source": [
        "3.\tWrite a program that reads a year from the user and displays a message \n",
        "Indicating whether or not it is a leap year.\n"
      ]
    },
    {
      "cell_type": "code",
      "metadata": {
        "id": "Q-3so-UhvecB",
        "colab_type": "code",
        "colab": {
          "base_uri": "https://localhost:8080/",
          "height": 52
        },
        "outputId": "fb13c14e-05df-4502-ce92-1db6b50ef3c4"
      },
      "source": [
        "def check(y): \n",
        "    if(y%4)==0: \n",
        "      if(y%100)==0: \n",
        "            if(y%400) == 0: \n",
        "                return True\n",
        "            else: \n",
        "                return False\n",
        "      else: \n",
        "        return True\n",
        "    else: \n",
        "        return False\n",
        "y=int(input(\"Enter year : \"))\n",
        "if(check(y)): \n",
        "    print(\"Leap Year\") \n",
        "else: \n",
        "    print(\"Not a Leap Year\") "
      ],
      "execution_count": null,
      "outputs": [
        {
          "output_type": "stream",
          "text": [
            "Enter year : 2000\n",
            "Leap Year\n"
          ],
          "name": "stdout"
        }
      ]
    },
    {
      "cell_type": "markdown",
      "metadata": {
        "id": "vJ7vtL4mxqg-",
        "colab_type": "text"
      },
      "source": [
        "4.\t Space To Hyphen problem \n",
        "Take a string as input, and replaces spaces “ “  with hyphens “-”, and returns a string.\n",
        "Input: “ This program converts spaces into hyphen”\n",
        "      Output:     “ This-program-converts-spaces-into-hyphen”\n"
      ]
    },
    {
      "cell_type": "code",
      "metadata": {
        "id": "Vhl6XYS-w9jt",
        "colab_type": "code",
        "colab": {
          "base_uri": "https://localhost:8080/",
          "height": 52
        },
        "outputId": "d81c9bb6-d6be-4fe7-a4ef-5d49331c8780"
      },
      "source": [
        "st=input(\"enter string : \")\n",
        "st1=\"\"\n",
        "for i in st:\n",
        "  if(i==\" \"):\n",
        "    st1=st1+\"-\"\n",
        "  else:\n",
        "    st1=st1+i\n",
        "print(st1)"
      ],
      "execution_count": null,
      "outputs": [
        {
          "output_type": "stream",
          "text": [
            "enter string : This program converts spaces into hyphen\n",
            "This-program-converts-spaces-into-hyphen\n"
          ],
          "name": "stdout"
        }
      ]
    },
    {
      "cell_type": "markdown",
      "metadata": {
        "id": "fFReDb5cziLf",
        "colab_type": "text"
      },
      "source": [
        "5.\tUnique Sort problem \n",
        "Take a string as input that accepts a comma separated sequence of words as input and prints the unique words in sorted form (alphanumerically).\n"
      ]
    },
    {
      "cell_type": "code",
      "metadata": {
        "id": "hibUV4ChxtZx",
        "colab_type": "code",
        "colab": {
          "base_uri": "https://localhost:8080/",
          "height": 52
        },
        "outputId": "f18259f5-f89d-4836-f728-67ab251af1ff"
      },
      "source": [
        "st=input(\"enter items : \")\n",
        "st1=st.split(\",\")\n",
        "st2=[]\n",
        "for i in st1:\n",
        "  if i not in st2:\n",
        "    st2.append(i)\n",
        "st2.sort()\n",
        "for i in st2:\n",
        "  print(i,end=\" \")"
      ],
      "execution_count": null,
      "outputs": [
        {
          "output_type": "stream",
          "text": [
            "enter items : red,pink,pink,red,blue,green,blue,pink\n",
            "blue green pink red "
          ],
          "name": "stdout"
        }
      ]
    },
    {
      "cell_type": "markdown",
      "metadata": {
        "id": "sDnDZDA5GCBe",
        "colab_type": "text"
      },
      "source": [
        "6.\tTax Calculator\n",
        "Ask the user for their monthly salary. Calculate whether they have to pay tax and if so, how much is that amount .Print the result\n"
      ]
    },
    {
      "cell_type": "code",
      "metadata": {
        "id": "XpgJpbmCztSh",
        "colab_type": "code",
        "colab": {
          "base_uri": "https://localhost:8080/",
          "height": 52
        },
        "outputId": "b0597247-6c55-42dc-c377-08d8eeb450dd"
      },
      "source": [
        "sal=int(input(\"Enter salary : \"))\n",
        "if(sal<=250000):\n",
        "  print(\"0\")\n",
        "elif(sal>250000 and sal<=500000):\n",
        "  print(sal*0.05)\n",
        "elif(sal>500000 and sal<=750000):\n",
        "  print(sal*0.1)\n",
        "elif(sal>750000 and sal<=1000000):\n",
        "  print(sal*0.15)\n",
        "elif(sal>1000000 and sal<=1250000):\n",
        "  print(sal*0.2)\n",
        "elif(sal>1250000 and sal<=1500000):\n",
        "  print(sal*0.25)\n",
        "else:\n",
        "  print(sal*0.3)"
      ],
      "execution_count": null,
      "outputs": [
        {
          "output_type": "stream",
          "text": [
            "Enter salary : 520000\n",
            "52000.0\n"
          ],
          "name": "stdout"
        }
      ]
    },
    {
      "cell_type": "markdown",
      "metadata": {
        "id": "quDi0oNjIWO0",
        "colab_type": "text"
      },
      "source": [
        "7.\tTake a list of integers as an argument, and converts it into a single integer (return the integer).\n",
        "*Input*: [11, 33, 50]\n",
        "*Output*: 113350\n"
      ]
    },
    {
      "cell_type": "code",
      "metadata": {
        "id": "J_HPB5P1GHKg",
        "colab_type": "code",
        "colab": {
          "base_uri": "https://localhost:8080/",
          "height": 52
        },
        "outputId": "ce04c0e0-f45e-49f6-9b10-d54a2b5c305e"
      },
      "source": [
        "import math\n",
        "n=input(\"Enter list : \")\n",
        "n1=n.split()\n",
        "s=0\n",
        "c1=0\n",
        "l=len(n1)\n",
        "for i in n1:\n",
        "  c=len(i)\n",
        "  s=s+int(i)\n",
        "  z=math.pow(10,c)\n",
        "  if(c1<l-1):\n",
        "    s=int(s*z)\n",
        "  c1+=1\n",
        "print(s)"
      ],
      "execution_count": null,
      "outputs": [
        {
          "output_type": "stream",
          "text": [
            "Enter list : 11 33 50\n",
            "113350\n"
          ],
          "name": "stdout"
        }
      ]
    },
    {
      "cell_type": "markdown",
      "metadata": {
        "id": "WOoV9om9KAzt",
        "colab_type": "text"
      },
      "source": [
        "8.\tUnits of Time\n",
        "Create a program that reads duration from the user as a number of days, hours, minutes, and seconds. Compute and display the total number of seconds represented by this duration. \n"
      ]
    },
    {
      "cell_type": "code",
      "metadata": {
        "id": "KH9FxQrRIZJa",
        "colab_type": "code",
        "colab": {
          "base_uri": "https://localhost:8080/",
          "height": 104
        },
        "outputId": "92486b2c-8116-4821-d51a-f711d9c83c2b"
      },
      "source": [
        "sm=60\n",
        "sh=3600\n",
        "sd=86400\n",
        "d=int(input(\"Enter number of Days: \"))\n",
        "h=int(input(\"Enter number of Hours: \"))\n",
        "m=int(input(\"Enter number of Minutes: \"))\n",
        "s=int(input(\"Enter number of Seconds: \"))\n",
        "ts=d*sd\n",
        "ts= ts+(h*sh)\n",
        "ts= ts+(m*sm)\n",
        "ts= ts+s\n",
        "print(\"Total number of seconds: \",int(ts))"
      ],
      "execution_count": null,
      "outputs": [
        {
          "output_type": "stream",
          "text": [
            "Enter number of Days: 6\n",
            "Enter number of Hours: 16\n",
            "Enter number of Minutes: 25\n",
            "Enter number of Seconds: 30\n",
            "Total number of seconds:  577530\n"
          ],
          "name": "stdout"
        }
      ]
    },
    {
      "cell_type": "markdown",
      "metadata": {
        "id": "4dFkVf78M0nl",
        "colab_type": "text"
      },
      "source": [
        "9.\tSort 3 Integers\n",
        "Given three integers (given through user input), sort the numbers using |min| and  |max| functions.\n"
      ]
    },
    {
      "cell_type": "code",
      "metadata": {
        "id": "gunsVgHSKFVq",
        "colab_type": "code",
        "colab": {
          "base_uri": "https://localhost:8080/",
          "height": 52
        },
        "outputId": "e20771f8-f3bd-4d5e-c41f-c66f0d1a42f5"
      },
      "source": [
        "def mini(n):\n",
        "  m=int(n[0])\n",
        "  for i in n:\n",
        "    if(int(i)<m):\n",
        "      m=int(i)\n",
        "  return m\n",
        "def maxm(n):\n",
        "  m=int(n[0])\n",
        "  for i in n:\n",
        "    if(int(i)>m):\n",
        "      m=int(i)\n",
        "  return m\n",
        "a=input(\"Enter list : \")\n",
        "n=a.split()\n",
        "mi=mini(n)\n",
        "ma=maxm(n)\n",
        "b=[mi]\n",
        "for i in n:\n",
        "  if (int(i) is not mi) and (int(i) is not ma):\n",
        "    b.append(int(i))\n",
        "b.append(ma)\n",
        "print(b)"
      ],
      "execution_count": null,
      "outputs": [
        {
          "output_type": "stream",
          "text": [
            "Enter list : 67 9 24\n",
            "[9, 24, 67]\n"
          ],
          "name": "stdout"
        }
      ]
    },
    {
      "cell_type": "markdown",
      "metadata": {
        "id": "OY6SLlwZO4lb",
        "colab_type": "text"
      },
      "source": [
        "10.\tWrite a program that reads a date from the user and computes its immediate successor. The date is the format YYYY-MM-DD. So, 2020-04-15 will have the successor 2020-04-16."
      ]
    },
    {
      "cell_type": "code",
      "metadata": {
        "id": "SohQ00hMM3ED",
        "colab_type": "code",
        "colab": {
          "base_uri": "https://localhost:8080/",
          "height": 87
        },
        "outputId": "94a90b1d-e687-49ce-fe76-4836abe80073"
      },
      "source": [
        "year = int(input(\"Input a year: \"))\n",
        "\n",
        "if (year % 400 == 0):\n",
        "    leap_year = True\n",
        "elif (year % 100 == 0):\n",
        "    leap_year = False\n",
        "elif (year % 4 == 0):\n",
        "    leap_year = True\n",
        "else:\n",
        "    leap_year = False\n",
        "\n",
        "month = int(input(\"Input a month [1-12]: \"))\n",
        "if month in (1, 3, 5, 7, 8, 10, 12):\n",
        "    month_length = 31\n",
        "elif month == 2:\n",
        "    if leap_year:\n",
        "        month_length = 29\n",
        "    else:\n",
        "        month_length = 28\n",
        "else:\n",
        "    month_length = 30\n",
        "day = int(input(\"Input a day [1-31]: \"))\n",
        "if day < month_length:\n",
        "    day += 1\n",
        "else:\n",
        "    day = 1\n",
        "    if month == 12:\n",
        "        month = 1\n",
        "        year += 1\n",
        "    else:\n",
        "        month += 1\n",
        "print(\"The next date is [yyyy-mm-dd] %d-%d-%d.\" % (year, month, day))"
      ],
      "execution_count": null,
      "outputs": [
        {
          "output_type": "stream",
          "text": [
            "Input a year: 2021\n",
            "Input a month [1-12]: 9\n",
            "Input a day [1-31]: 31\n",
            "The next date is [yyyy-mm-dd] 2021-10-1.\n"
          ],
          "name": "stdout"
        }
      ]
    },
    {
      "cell_type": "markdown",
      "metadata": {
        "id": "ZMnhh2rdQlam",
        "colab_type": "text"
      },
      "source": [
        "11.\tCompute product of a list of numbers [45 ,3,2,89,72,1,10,7]\n",
        "Output: 121111200\n"
      ]
    },
    {
      "cell_type": "code",
      "metadata": {
        "id": "yc2IkVArPC8U",
        "colab_type": "code",
        "colab": {
          "base_uri": "https://localhost:8080/",
          "height": 52
        },
        "outputId": "7f05cc68-3fa1-468e-b54c-eada48cb81d0"
      },
      "source": [
        "n=input(\"Enter integers : \")\n",
        "n1=n.split()\n",
        "s=1\n",
        "for i in n1:\n",
        "  s=s*int(i)\n",
        "print(s)"
      ],
      "execution_count": null,
      "outputs": [
        {
          "output_type": "stream",
          "text": [
            "Enter integers : 45 3 2 89 72 1 10 7\n",
            "121111200\n"
          ],
          "name": "stdout"
        }
      ]
    },
    {
      "cell_type": "markdown",
      "metadata": {
        "id": "GoRs1o_gSFvr",
        "colab_type": "text"
      },
      "source": [
        "12.\tCompute given Num_list =  [5, 6,8 ,34,89,1] to get desired output\n",
        "Output: Out_list=[11,14,42,123,90]\n"
      ]
    },
    {
      "cell_type": "code",
      "metadata": {
        "id": "cv7FSmdaQn4S",
        "colab_type": "code",
        "colab": {
          "base_uri": "https://localhost:8080/",
          "height": 52
        },
        "outputId": "4fc05232-9d70-4b03-c427-f4178dbff2b2"
      },
      "source": [
        "n=input(\"Enter integers : \")\n",
        "n1=n.split()\n",
        "n2=[]\n",
        "l=len(n1)\n",
        "c=0\n",
        "for i in n1:\n",
        "  c+=1\n",
        "  if c<=l-1:\n",
        "    n2.append(int(i)+int(n1[c]))\n",
        "print(n2)"
      ],
      "execution_count": null,
      "outputs": [
        {
          "output_type": "stream",
          "text": [
            "Enter integers : 5 6 8 34 89 1\n",
            "[11, 14, 42, 123, 90]\n"
          ],
          "name": "stdout"
        }
      ]
    },
    {
      "cell_type": "markdown",
      "metadata": {
        "id": "iSg4GgiOTh6n",
        "colab_type": "text"
      },
      "source": [
        "13.Compute given Num_tuple =  (5, 6,8 ,3,9,1) to get desired output\n",
        "Output: Out_list = [5, 30, 240, 720, 6480, 6480]"
      ]
    },
    {
      "cell_type": "code",
      "metadata": {
        "id": "iICEd34vSImP",
        "colab_type": "code",
        "colab": {
          "base_uri": "https://localhost:8080/",
          "height": 52
        },
        "outputId": "7f35460b-e88a-4477-d692-ab9fef944559"
      },
      "source": [
        "n=input(\"Enter integers : \")\n",
        "n1=n.split()\n",
        "n2=[]\n",
        "c=1\n",
        "for i in n1:\n",
        "  c=int(i)*c\n",
        "  n2.append(c)\n",
        "print(n2)"
      ],
      "execution_count": null,
      "outputs": [
        {
          "output_type": "stream",
          "text": [
            "Enter integers : 5 6 8 3 9 1\n",
            "[5, 30, 240, 720, 6480, 6480]\n"
          ],
          "name": "stdout"
        }
      ]
    },
    {
      "cell_type": "markdown",
      "metadata": {
        "id": "t8ZUybizVebu",
        "colab_type": "text"
      },
      "source": [
        "14.\t Write a Python code that takes a number and returns a list of its digits. So for 586392 it should return [5,8,6,3,9,2]"
      ]
    },
    {
      "cell_type": "code",
      "metadata": {
        "id": "cGZUP5uhTvYh",
        "colab_type": "code",
        "colab": {
          "base_uri": "https://localhost:8080/",
          "height": 52
        },
        "outputId": "5e848f6d-81f1-4c7b-9a60-2ca7dc6207c4"
      },
      "source": [
        "n=int(input(\"Enter number : \"))\n",
        "n1=[]\n",
        "while(n>0):\n",
        "  i=int(n%10)\n",
        "  n1.append(i)\n",
        "  n=int(n/10)\n",
        "n1.reverse() \n",
        "print(n1)"
      ],
      "execution_count": null,
      "outputs": [
        {
          "output_type": "stream",
          "text": [
            "Enter number : 123456789\n",
            "[1, 2, 3, 4, 5, 6, 7, 8, 9]\n"
          ],
          "name": "stdout"
        }
      ]
    },
    {
      "cell_type": "markdown",
      "metadata": {
        "id": "Q-YRXQMOcsD9",
        "colab_type": "text"
      },
      "source": [
        "15.\tWrite a program that finds the longest palindromic substring of a given string"
      ]
    },
    {
      "cell_type": "code",
      "metadata": {
        "id": "R-cPNvqoVghE",
        "colab_type": "code",
        "colab": {
          "base_uri": "https://localhost:8080/",
          "height": 52
        },
        "outputId": "d95170c2-cf08-4867-c7db-0488ddfb010c"
      },
      "source": [
        "def getstrin(st,low,high):\n",
        "    l=len(st)\n",
        "    while low >= 0 and high < l and str[low] == str[high]:\n",
        "        low = low - 1\n",
        "        high = high + 1\n",
        "    return str[low + 1:high]\n",
        "def palindrom(st, l):\n",
        "    maxstr = \"\"\n",
        "    maxl= 0\n",
        "    for i in range(l):\n",
        "        cstr=getstrin(str, i, i)\n",
        "        cl = len(cstr)\n",
        "        if cl > maxl:\n",
        "            maxl= cl\n",
        "            maxstr = cstr\n",
        "        cstr = getstrin(str, i, i + 1)\n",
        "        cl= len(cstr)\n",
        "        if cl> maxl:\n",
        "            maxl = cl\n",
        "            maxstr = cstr\n",
        "\n",
        "    return maxstr\n",
        "\n",
        "st = input(\"enter string : \")\n",
        "print(\"Longest Palindromic substring is\", palindrom(st, len(st) - 1))"
      ],
      "execution_count": null,
      "outputs": [
        {
          "output_type": "stream",
          "text": [
            "enter string : ABDCBCDBDCBBC\n",
            "Longest Palindromic substring is BDCBCDB\n"
          ],
          "name": "stdout"
        }
      ]
    },
    {
      "cell_type": "markdown",
      "metadata": {
        "id": "Tpm9brp1dqpt",
        "colab_type": "text"
      },
      "source": [
        "16. Substring Check (Bug Funny)\n",
        "Given two binary strings, A (of length 10) and B (of length 5), output 1 if B is a substring of A and 0 otherwise.\n",
        "First two lines of input:\n",
        "\n",
        "1010110010          10110\n",
        "1110111011           10011\n",
        "First two lines of output:\n",
        "1\n",
        "0\n"
      ]
    },
    {
      "cell_type": "code",
      "metadata": {
        "id": "O-J81IHtcx4_",
        "colab_type": "code",
        "colab": {
          "base_uri": "https://localhost:8080/",
          "height": 69
        },
        "outputId": "6e3973c0-5ddd-4392-a0fe-35c481728075"
      },
      "source": [
        "st=input(\"enter string : \")\n",
        "st1=input(\"enter string : \")\n",
        "if st1 in st:\n",
        "  print(\"1\")\n",
        "else:\n",
        "  print(\"0\")"
      ],
      "execution_count": null,
      "outputs": [
        {
          "output_type": "stream",
          "text": [
            "enter string : 1010110010\n",
            "enter string : 10110\n",
            "1\n"
          ],
          "name": "stdout"
        }
      ]
    },
    {
      "cell_type": "code",
      "metadata": {
        "id": "1dY0RLUud3UD",
        "colab_type": "code",
        "colab": {
          "base_uri": "https://localhost:8080/",
          "height": 173
        },
        "outputId": "076183e5-c691-406f-c5df-632b2bbdba93"
      },
      "source": [
        "def gcd(a,b):\n",
        "    if b==0: \n",
        "        return a \n",
        "    return gcd(b,a%b) \n",
        "def countsteps(a,b,c): \n",
        "    v1=b\n",
        "    v2=0\n",
        "    count=1\n",
        "    while ((v1 is not c) and (v2 is not c)): \n",
        "        temp=min(v1,a-v2) \n",
        "        v2=v2+temp \n",
        "        v1=v1-temp \n",
        "        count=count+1\n",
        "        if ((v2==c)or(v1==c)): \n",
        "            break\n",
        "        if v1==0: \n",
        "            v1=b \n",
        "            count=count+1\n",
        "        if v2==a: \n",
        "            v2=0\n",
        "            count=count+1\n",
        "    return count \n",
        "def ispossible(a,b,c): \n",
        "    if a>b: \n",
        "        temp=a \n",
        "        a=b \n",
        "        b=temp \n",
        "    if c>b: \n",
        "        return -1\n",
        "    if (c%(gcd(b,a)) is not 0): \n",
        "        return -1\n",
        "    return(min(countsteps(b,a,c),countsteps(a,b,c)))\n",
        "t=int(input(\"Enter testcases : \"))\n",
        "for i in range(t):\n",
        "  a=int(input(\"Enter a : \"))\n",
        "  b=int(input(\"Enter b : \"))\n",
        "  c=int(input(\"Enter c :\"))\n",
        "  print(\"Minimum number of steps required is : \",ispossible(a,b,c))"
      ],
      "execution_count": null,
      "outputs": [
        {
          "output_type": "stream",
          "text": [
            "Enter testcases : 2\n",
            "Enter a : 5\n",
            "Enter b : 2\n",
            "Enter c :3\n",
            "Minimum number of steps required is :  2\n",
            "Enter a : 2\n",
            "Enter b : 3\n",
            "Enter c :4\n",
            "Minimum number of steps required is :  -1\n"
          ],
          "name": "stdout"
        }
      ]
    }
  ]
}